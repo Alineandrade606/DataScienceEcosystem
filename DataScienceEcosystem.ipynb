{
  "nbformat": 4,
  "nbformat_minor": 0,
  "metadata": {
    "colab": {
      "provenance": []
    },
    "kernelspec": {
      "name": "python3",
      "display_name": "Python 3"
    },
    "language_info": {
      "name": "python"
    }
  },
  "cells": [
    {
      "cell_type": "markdown",
      "source": [
        "# **Data Science Tools and Ecosystem**\n",
        "\n"
      ],
      "metadata": {
        "id": "2AoKMzUq7ePj"
      }
    },
    {
      "cell_type": "markdown",
      "source": [
        "### In this notebook, Data Science tools and the ecosystem are summarized.\n"
      ],
      "metadata": {
        "id": "hdOTgbGW7qja"
      }
    },
    {
      "cell_type": "markdown",
      "source": [
        "**Objectives:**\n",
        "\n",
        "- List popular languages for Data Science  \n",
        "- List commonly used libraries in Data Science  \n",
        "- Create Markdown tables  \n",
        "- Perform arithmetic operations in Python  \n",
        "- Upload a notebook to GitHub  \n"
      ],
      "metadata": {
        "id": "csFnNaZI8fX4"
      }
    },
    {
      "cell_type": "markdown",
      "source": [
        "### Some of the popular languages that  Data Scientists use are:\n",
        "\n",
        "\n",
        "**1.** Python  \n",
        "**2.** R  \n",
        "**3.** SQL  \n",
        "**4.** Julia  \n",
        "**5.** Scala\n"
      ],
      "metadata": {
        "id": "wjLV-2V19RE2"
      }
    },
    {
      "cell_type": "markdown",
      "source": [
        "###Some of the commonly used libraries used by Data Scientists include:\n",
        "\n",
        "- Pandas  \n",
        "- NumPy  \n",
        "- Matplotlib  \n",
        "- Scikit-learn  \n",
        "- TensorFlow  "
      ],
      "metadata": {
        "id": "kfqX6gVh94-Y"
      }
    },
    {
      "cell_type": "markdown",
      "source": [
        "### Data Science Tools"
      ],
      "metadata": {
        "id": "kJos6gYjCAE9"
      }
    },
    {
      "cell_type": "markdown",
      "source": [
        "|     Data Science Tools     |\n",
        "|  ---------------------     |\n",
        "|    Jupyter Notebook        |\n",
        "|       RStudio              |\n",
        "|        VS Code             |\n"
      ],
      "metadata": {
        "id": "sqbU8TPr-RTZ"
      }
    },
    {
      "cell_type": "markdown",
      "source": [
        "## Below are a few examples of evaluating arithmetic expressions in Python.\n"
      ],
      "metadata": {
        "id": "5BCRD_Yv-nQ7"
      }
    },
    {
      "cell_type": "code",
      "source": [
        "# This is a simple arithmetic expression to multiply then add integers\n",
        "(3 * 4) + 5"
      ],
      "metadata": {
        "colab": {
          "base_uri": "https://localhost:8080/"
        },
        "id": "S9f7qezs-2of",
        "outputId": "d6391cfe-c89c-4b41-ca30-48bcd21214b1"
      },
      "execution_count": null,
      "outputs": [
        {
          "output_type": "execute_result",
          "data": {
            "text/plain": [
              "17"
            ]
          },
          "metadata": {},
          "execution_count": 1
        }
      ]
    },
    {
      "cell_type": "code",
      "source": [
        "# This will convert 200 minutes to hours by dividing by 60\n",
        "200 / 60"
      ],
      "metadata": {
        "colab": {
          "base_uri": "https://localhost:8080/"
        },
        "id": "VgmJzFCf_C_d",
        "outputId": "392de026-cbae-4385-f19f-f8ecc8863e6a"
      },
      "execution_count": null,
      "outputs": [
        {
          "output_type": "execute_result",
          "data": {
            "text/plain": [
              "3.3333333333333335"
            ]
          },
          "metadata": {},
          "execution_count": 2
        }
      ]
    },
    {
      "cell_type": "markdown",
      "source": [
        "## Author\n",
        "\n",
        "Aline Andrade\n"
      ],
      "metadata": {
        "id": "QtOQltqP-wEn"
      }
    }
  ]
}